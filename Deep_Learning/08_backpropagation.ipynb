{
 "cells": [
  {
   "cell_type": "markdown",
   "metadata": {},
   "source": [
    "# 역전파 (Backpropagation)\n",
    "- \"AI가 자기가 틀린 걸 알고, 어디서 틀렸는지를 계산해서 스스로 고치는 방법\"\n",
    "- 즉, 오차를 거꾸로 전달하면서 가중치를 수정하는 과정이야.\n",
    "---\n",
    "- 💡 딥러닝에서는 이렇게 적용돼:\n",
    "- 모델이 입력 x를 보고 예측값 ŷ를 냄\n",
    "- 실제 정답 y와 비교해서 loss(손실) 계산\n",
    "- 이 loss가 왜 발생했는지를 각 층별로 거꾸로 추적\n",
    "- 각 가중치 W, 편향 b가 얼마나 영향을 줬는지 계산 → 기울기(gradient)\n",
    "- 그 기울기만큼 가중치를 조정해서 더 잘 맞추도록 함\n",
    "- 이 전 과정을 \"역전파\"라고 해! (→ loss.backward())\n",
    "---\n",
    "- 💡 한줄 요약\n",
    "- 역전파(Backpropagation) 는\n",
    "- 딥러닝에서 오차가 발생했을 때,\n",
    "- 그 오차를 각 층으로 거슬러 올라가며 계산하고,\n",
    "- 각 가중치를 얼마나 수정해야 하는지를 알려주는 방법이야."
   ]
  },
  {
   "cell_type": "markdown",
   "metadata": {},
   "source": [
    "### 연쇄법칙"
   ]
  },
  {
   "cell_type": "markdown",
   "metadata": {},
   "source": [
    "- 기본 수식의 역전파 & 연쇄법칙 적용"
   ]
  },
  {
   "cell_type": "code",
   "execution_count": 1,
   "metadata": {},
   "outputs": [
    {
     "name": "stdout",
     "output_type": "stream",
     "text": [
      "9.0\n",
      "6.0\n"
     ]
    }
   ],
   "source": [
    "import numpy as np\n",
    "\n",
    "def forward(x):\n",
    "    y = x**2\n",
    "    return y\n",
    "\n",
    "def backward(x):\n",
    "    dy_dx = 2 * x\n",
    "    return dy_dx\n",
    "\n",
    "x = 3.0\n",
    "print(forward(x))\n",
    "print(backward(x))"
   ]
  },
  {
   "cell_type": "markdown",
   "metadata": {},
   "source": [
    "- 다층 신경망에서 연쇄법칙 적용"
   ]
  },
  {
   "cell_type": "code",
   "execution_count": 2,
   "metadata": {},
   "outputs": [
    {
     "name": "stdout",
     "output_type": "stream",
     "text": [
      "18.0\n",
      "12.0\n"
     ]
    }
   ],
   "source": [
    "def forward(x):\n",
    "    y = x**2\n",
    "    z = 2 * y\n",
    "    return z\n",
    "\n",
    "def backward(x):\n",
    "    dy_dx = 2 * x\n",
    "    dz_dy = 2\n",
    "    dz_dx = dz_dy * dy_dx\n",
    "    return dz_dx\n",
    "\n",
    "x = 3.0\n",
    "print(forward(x))\n",
    "print(backward(x))"
   ]
  },
  {
   "cell_type": "markdown",
   "metadata": {},
   "source": [
    "### 신경망에서의 활용"
   ]
  },
  {
   "cell_type": "markdown",
   "metadata": {},
   "source": [
    "- 단순 신경망 학습"
   ]
  },
  {
   "cell_type": "code",
   "execution_count": 3,
   "metadata": {},
   "outputs": [
    {
     "name": "stdout",
     "output_type": "stream",
     "text": [
      "[0.20474415 0.40759064]\n"
     ]
    }
   ],
   "source": [
    "def sigmoid(x):\n",
    "    return 1 / (1 + np.exp(-x))\n",
    "\n",
    "def sigmoid_d(x):\n",
    "    return sigmoid(x) * (1 - sigmoid(x))\n",
    "\n",
    "X = np.array([0.5, 0.8])\n",
    "y = np.array([1])\n",
    "\n",
    "W = np.array([0.2, 0.4])\n",
    "\n",
    "# 순전파\n",
    "z = np.dot(X, W)\n",
    "r = sigmoid(z)\n",
    "\n",
    "# 오차 계산\n",
    "loss = 0.5 * (y - r) ** 2\n",
    "\n",
    "# 역전파 (기울기 계산)\n",
    "delta = (r - y) * sigmoid_d(z)\n",
    "grad_w = delta * X\n",
    "\n",
    "# 가중치 갱신\n",
    "W -= 0.1 * grad_w   # 0.1 == learning_rate\n",
    "\n",
    "print(W)"
   ]
  },
  {
   "cell_type": "markdown",
   "metadata": {},
   "source": [
    "- 은닉층 추가"
   ]
  },
  {
   "cell_type": "code",
   "execution_count": 5,
   "metadata": {},
   "outputs": [
    {
     "name": "stdout",
     "output_type": "stream",
     "text": [
      "[[0.5004928]\n",
      " [0.6011264]]\n",
      "[[0.20044   0.400528 ]\n",
      " [0.100704  0.3008448]]\n"
     ]
    }
   ],
   "source": [
    "def relu(x):\n",
    "    return np.maximum(0, x)\n",
    "\n",
    "def relu_d(x):\n",
    "    return np.where(x > 0, 1, 0)\n",
    "\n",
    "X = np.array([0.5, 0.8])   # (2,)\n",
    "y = np.array([1])\n",
    "\n",
    "W1 = np.array([[0.2, 0.4], [0.1, 0.3]])   # (2, 2)\n",
    "b1 = np.array([0.1, 0.2])   # (2,)\n",
    "W2 = np.array([[0.5], [0.6]])   # (2, 1)\n",
    "b2 = np.array([0.3])\n",
    "\n",
    "# 순전파\n",
    "z1 = np.dot(X, W1) + b1\n",
    "r1 = relu(z1)\n",
    "\n",
    "z2 = np.dot(r1, W2) + b2\n",
    "r2 = relu(z2)\n",
    "\n",
    "# 역전파 (기울기 계산)\n",
    "delta2 = (r2 - y) * relu_d(z2)\n",
    "grad_W2 = np.outer(r1, delta2)\n",
    "\n",
    "delta1 = np.dot(W2, delta2) * relu_d(z1)\n",
    "grad_W1 = np.outer(X, delta1)\n",
    "\n",
    "# 가중치 갱신\n",
    "learning_rate = 0.01\n",
    "W2 -= learning_rate * grad_W2\n",
    "W1 -= learning_rate * grad_W1\n",
    "\n",
    "print(W2)\n",
    "print(W1)"
   ]
  },
  {
   "cell_type": "markdown",
   "metadata": {},
   "source": [
    "### 수치미분과 역전파"
   ]
  },
  {
   "cell_type": "code",
   "execution_count": 6,
   "metadata": {},
   "outputs": [
    {
     "name": "stdout",
     "output_type": "stream",
     "text": [
      "6.000000000039306\n",
      "6.0\n"
     ]
    }
   ],
   "source": [
    "def f(x):\n",
    "    return x**2\n",
    "\n",
    "def num_d_gradient(f, x):\n",
    "    h = 1e-5\n",
    "    return (f(x + h) - f(x - h)) / (2 * h)\n",
    "\n",
    "def backward_gradient(x):\n",
    "    return 2 * x\n",
    "\n",
    "print(num_d_gradient(f, 3.0))\n",
    "print(backward_gradient(3.0))"
   ]
  },
  {
   "cell_type": "markdown",
   "metadata": {},
   "source": [
    "##### 숫자 맞추기 AI"
   ]
  },
  {
   "cell_type": "code",
   "execution_count": 10,
   "metadata": {},
   "outputs": [
    {
     "name": "stdout",
     "output_type": "stream",
     "text": [
      "epoch 0 | 예측값: 3.51776248838994 , 손실: 914.1250641357832\n",
      "epoch 50 | 예측값: 41.80167119839046 , 손실: 0.024280440461652383\n",
      "epoch 100 | 예측값: 41.998977857939366 , 손실: 6.44922464272799e-07\n",
      "epoch 150 | 예측값: 41.999994732109585 , 손실: 1.713004283434827e-11\n",
      "epoch 200 | 예측값: 41.999999972850475 , 손실: 4.549980490536778e-16\n",
      "epoch 250 | 예측값: 41.99999999986007 , 손실: 1.2086059951568363e-20\n",
      "epoch 300 | 예측값: 41.999999999999275 , 손실: 3.223348767605472e-25\n",
      "epoch 350 | 예측값: 41.99999999999997 , 손실: 4.0389678347315804e-28\n",
      "epoch 400 | 예측값: 41.99999999999997 , 손실: 4.0389678347315804e-28\n",
      "epoch 450 | 예측값: 41.99999999999997 , 손실: 4.0389678347315804e-28\n",
      "최종 예측값: 41.99999999999997\n"
     ]
    }
   ],
   "source": [
    "target_number = 42      # 우리가 맞추고 싶은 \"정답\"\n",
    "\n",
    "guess = np.random.randn()   # 랜덤하게 시작하는 예측값 (정답을 모르니까 대충 추측)\n",
    "\n",
    "learning_rate = 0.1     # 한 번에 얼마만큼 이동할지 (기울기를 얼마나 반영할지)\n",
    "\n",
    "for i in range(500):\n",
    "    # 오차 계산\n",
    "    loss = 0.5 * (guess - target_number) ** 2\n",
    "        # 손실(Loss) = 예측값과 정답 사이의 차이(오차)를 계산\n",
    "        # 수식: MSE (Mean Squared Error) 형식\n",
    "        # 0.5는 미분 시 깔끔하게 사라지도록 관습적으로 붙임\n",
    "\n",
    "    # 역전파 (기울기 계산)\n",
    "    grad = (guess - target_number)\n",
    "    # 📌 역전파 단계 (기울기 계산)\n",
    "    # 오차를 줄이기 위해 어느 방향으로 움직일지 결정\n",
    "    # 여기서는 loss를 guess에 대해 미분한 값이야\n",
    "\n",
    "    # 업데이트 (guess 업데이트)\n",
    "    guess -= learning_rate * grad\n",
    "    # 🔥 경사하강법(Gradient Descent)\n",
    "    # 기울기 방향으로 guess를 조금 수정!\n",
    "    # learning_rate가 너무 크면 튕기고, 작으면 너무 느림\n",
    "\n",
    "    # epoch 5마다 예측값과 손실 출력\n",
    "    if i % 50 == 0:\n",
    "        print(f'epoch {i} | 예측값: {guess} , 손실: {loss}')\n",
    "        # 📢 50번마다 중간 결과 출력\n",
    "        # → guess가 점점 42에 가까워지고, loss는 줄어드는 걸 볼 수 있어!\n",
    "\n",
    "\n",
    "\n",
    "# 최종 예측값 guess 출력\n",
    "print(f'최종 예측값: {guess}')"
   ]
  },
  {
   "cell_type": "code",
   "execution_count": null,
   "metadata": {},
   "outputs": [],
   "source": []
  }
 ],
 "metadata": {
  "kernelspec": {
   "display_name": "pystudy_env",
   "language": "python",
   "name": "python3"
  },
  "language_info": {
   "codemirror_mode": {
    "name": "ipython",
    "version": 3
   },
   "file_extension": ".py",
   "mimetype": "text/x-python",
   "name": "python",
   "nbconvert_exporter": "python",
   "pygments_lexer": "ipython3",
   "version": "3.12.9"
  }
 },
 "nbformat": 4,
 "nbformat_minor": 2
}
